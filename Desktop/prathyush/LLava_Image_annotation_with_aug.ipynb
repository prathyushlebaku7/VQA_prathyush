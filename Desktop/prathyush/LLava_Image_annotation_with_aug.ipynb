{
 "cells": [
  {
   "cell_type": "code",
   "execution_count": 12,
   "metadata": {},
   "outputs": [
    {
     "name": "stdout",
     "output_type": "stream",
     "text": [
      "Augmented images and annotations are organized and zipped in: /Users/lebakuprathyushkumarreddy/Desktop/augmented_images.zip\n"
     ]
    }
   ],
   "source": [
    "#image annotations with images\n",
    "import os\n",
    "import numpy as np\n",
    "import pandas as pd\n",
    "import imgaug.augmenters as iaa\n",
    "from skimage import io\n",
    "from skimage.io import imsave\n",
    "import zipfile\n",
    "\n",
    "# Path to images\n",
    "image_path = '/Users/lebakuprathyushkumarreddy/Desktop/collected_images/q-5_images'\n",
    "image_files = [os.path.join(image_path, f'image{i+1}.jpg') for i in range(10)]\n",
    "annotations =['no','no','no','no','yes','no','no','no','yes','yes'] \n",
    "\n",
    "# Image Augmentation\n",
    "seq = iaa.Sequential([\n",
    "    iaa.Fliplr(0.5), \n",
    "    iaa.Crop(percent=(0, 0.1)),  \n",
    "    iaa.LinearContrast((0.75, 1.5)), \n",
    "    iaa.Multiply((0.8, 1.2))\n",
    "])\n",
    "\n",
    "images = [io.imread(f) for f in image_files]\n",
    "augmented_images = []\n",
    "augmented_annotations = []\n",
    "\n",
    "augmented_image_path = '/Users/lebakuprathyushkumarreddy/Desktop/augunented_datasets/augumented_q-5_images/images'\n",
    "augmented_annotation_path = '/Users/lebakuprathyushkumarreddy/Desktop/augunented_datasets/augumented_q-5_images/annotations'\n",
    "os.makedirs(augmented_image_path, exist_ok=True)\n",
    "os.makedirs(augmented_annotation_path, exist_ok=True)\n",
    "\n",
    "#augmented images and annotations\n",
    "for img_index, (img, annotation) in enumerate(zip(images, annotations)):\n",
    "    images_aug = seq(images=[img] * 50)  \n",
    "    for aug_index, aug_img in enumerate(images_aug):\n",
    "        image_filename = f'aug_image_{img_index}_{aug_index}.jpg'\n",
    "        annotation_filename = f'aug_image_{img_index}_{aug_index}.txt'\n",
    "        image_filepath = os.path.join(augmented_image_path, image_filename)\n",
    "        annotation_filepath = os.path.join(augmented_annotation_path, annotation_filename)\n",
    "        imsave(image_filepath, aug_img)\n",
    "        with open(annotation_filepath, 'w') as file:\n",
    "            file.write(annotation)\n",
    "\n",
    "# Zipping augmented images and annotations\n",
    "zip_path = '/Users/lebakuprathyushkumarreddy/Desktop/augmented_images.zip'\n",
    "with zipfile.ZipFile(zip_path, 'w') as zipf:\n",
    "    for root, _, files in os.walk(augmented_image_path):\n",
    "        for file in files:\n",
    "            zipf.write(os.path.join(root, file), arcname=os.path.join('images', file))\n",
    "            \n",
    "    for root, _, files in os.walk(augmented_annotation_path):\n",
    "        for file in files:\n",
    "            zipf.write(os.path.join(root, file), arcname=os.path.join('annotations', file))\n",
    "\n",
    "print(f'Augmented images and annotations are organized and zipped in: {zip_path}')"
   ]
  }
 ],
 "metadata": {
  "kernelspec": {
   "display_name": "base",
   "language": "python",
   "name": "python3"
  },
  "language_info": {
   "codemirror_mode": {
    "name": "ipython",
    "version": 3
   },
   "file_extension": ".py",
   "mimetype": "text/x-python",
   "name": "python",
   "nbconvert_exporter": "python",
   "pygments_lexer": "ipython3",
   "version": "3.11.8"
  }
 },
 "nbformat": 4,
 "nbformat_minor": 2
}
