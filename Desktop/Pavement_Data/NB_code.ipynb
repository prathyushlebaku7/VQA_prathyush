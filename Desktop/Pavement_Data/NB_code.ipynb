{
 "cells": [
  {
   "cell_type": "code",
   "execution_count": 5,
   "metadata": {},
   "outputs": [
    {
     "name": "stdout",
     "output_type": "stream",
     "text": [
      "                 Generalized Linear Model Regression Results                  \n",
      "==============================================================================\n",
      "Dep. Variable:             Crash_rate   No. Observations:                 4119\n",
      "Model:                            GLM   Df Residuals:                     4106\n",
      "Model Family:        NegativeBinomial   Df Model:                           12\n",
      "Link Function:                    Log   Scale:                          1.0000\n",
      "Method:                          IRLS   Log-Likelihood:                -8740.9\n",
      "Date:                Mon, 01 Jan 2024   Deviance:                       4785.1\n",
      "Time:                        11:38:29   Pearson chi2:                 7.40e+03\n",
      "No. Iterations:                    24   Pseudo R-squ. (CS):             0.7870\n",
      "Covariance Type:            nonrobust                                         \n",
      "===============================================================================\n",
      "                  coef    std err          z      P>|z|      [0.025      0.975]\n",
      "-------------------------------------------------------------------------------\n",
      "Intercept       2.5334      0.260      9.760      0.000       2.025       3.042\n",
      "IRI             0.0043      0.001      5.778      0.000       0.003       0.006\n",
      "AADT            0.0002   4.28e-06     43.432      0.000       0.000       0.000\n",
      "SPEED          -0.0307      0.003    -11.911      0.000      -0.036      -0.026\n",
      "PCI_2          -0.0044      0.003     -1.301      0.193      -0.011       0.002\n",
      "CRACK_INDX      0.0022      0.002      1.003      0.316      -0.002       0.006\n",
      "FAULT_INDX      0.0015      0.001      2.243      0.025       0.000       0.003\n",
      "FRICT          -0.0115      0.001     -9.787      0.000      -0.014      -0.009\n",
      "FAULTAV         0.1268      1.006      0.126      0.900      -1.845       2.099\n",
      "RUT            -0.8810      0.351     -2.508      0.012      -1.570      -0.192\n",
      "TRUCKS         -0.0002   1.22e-05    -17.408      0.000      -0.000      -0.000\n",
      "WIDTH          -0.0063      0.003     -2.362      0.018      -0.012      -0.001\n",
      "PMIS_LENGTH    -0.1642      0.010    -16.072      0.000      -0.184      -0.144\n",
      "===============================================================================\n"
     ]
    },
    {
     "name": "stderr",
     "output_type": "stream",
     "text": [
      "/var/folders/yl/h3jt_tns2s14c8y5w9qptb6c0000gn/T/ipykernel_52675/1604813836.py:6: DtypeWarning: Columns (11,87,99,115,116,119,120,121,122,123,131,132,147,148,150,151,152,153,154,155,156,185,186,187,188,192,193,194,195,196,199,200,201,202,209,210,211,212,215,218,219,225) have mixed types. Specify dtype option on import or set low_memory=False.\n",
      "  data = pd.read_csv('/Users/lebakuprathyushkumarreddy/Pavement_with_crashes_2022.csv')\n",
      "/var/folders/yl/h3jt_tns2s14c8y5w9qptb6c0000gn/T/ipykernel_52675/1604813836.py:13: PerformanceWarning: DataFrame is highly fragmented.  This is usually the result of calling `frame.insert` many times, which has poor performance.  Consider joining all columns at once using pd.concat(axis=1) instead. To get a de-fragmented frame, use `newframe = frame.copy()`\n",
      "  data[\"Crash_rate\"] = data[\"Crashes\"]/data[\"PMIS_LENGTH\"]\n",
      "/Users/lebakuprathyushkumarreddy/anaconda3/lib/python3.11/site-packages/statsmodels/genmod/families/family.py:1367: ValueWarning: Negative binomial dispersion parameter alpha not set. Using default value alpha=1.0.\n",
      "  warnings.warn(\"Negative binomial dispersion parameter alpha not \"\n"
     ]
    }
   ],
   "source": [
    "import pandas as pd\n",
    "import statsmodels.api as sm\n",
    "from statsmodels.formula.api import glm\n",
    "\n",
    "# Load your data into a pandas DataFrame\n",
    "data = pd.read_csv('/Users/lebakuprathyushkumarreddy/Pavement_with_crashes_2022.csv')\n",
    "# Since I can't extract the parameter names, you would have to replace the column names manually.\n",
    "\n",
    "data[\"Crashes\"].fillna(data[\"Crashes\"].mean(),inplace=True)\n",
    "data[\"PMIS_LENGTH\"].fillna(data[\"PMIS_LENGTH\"].mean(),inplace=True)\n",
    "data.fillna(0,inplace=True)\n",
    "\n",
    "data[\"Crash_rate\"] = data[\"Crashes\"]/data[\"PMIS_LENGTH\"]\n",
    "# Define the formula for the model\n",
    "formula = '(Crash_rate) ~ IRI + AADT + SPEED + PCI_2 + CRACK_INDX + FAULT_INDX + FRICT + FAULTAV + RUT + TRUCKS + WIDTH + PMIS_LENGTH'\n",
    "\n",
    "# Fit a negative binomial regression model\n",
    "\n",
    "model = glm(formula, data=data, family=sm.families.NegativeBinomial()).fit()\n",
    "\n",
    "# Print the summary of the model\n",
    "print(model.summary())"
   ]
  }
 ],
 "metadata": {
  "kernelspec": {
   "display_name": "base",
   "language": "python",
   "name": "python3"
  },
  "language_info": {
   "codemirror_mode": {
    "name": "ipython",
    "version": 3
   },
   "file_extension": ".py",
   "mimetype": "text/x-python",
   "name": "python",
   "nbconvert_exporter": "python",
   "pygments_lexer": "ipython3",
   "version": "3.11.4"
  }
 },
 "nbformat": 4,
 "nbformat_minor": 2
}
